{
 "cells": [
  {
   "cell_type": "markdown",
   "id": "4aa692a7-9c0e-494f-bda8-7265051808d3",
   "metadata": {},
   "source": [
    "# Esse é o meu titulo\n",
    "Essa linha cria uma variavel `a`."
   ]
  },
  {
   "cell_type": "code",
   "execution_count": 8,
   "id": "49806a46-dac4-448f-8643-bd71a82f1d22",
   "metadata": {},
   "outputs": [
    {
     "data": {
      "text/plain": [
       "2"
      ]
     },
     "execution_count": 8,
     "metadata": {},
     "output_type": "execute_result"
    }
   ],
   "source": [
    "a = 2\n",
    "a"
   ]
  },
  {
   "cell_type": "markdown",
   "id": "99969b4c-2f66-4ad4-8946-3e0fbed90ff7",
   "metadata": {},
   "source": [
    "Essa linha tem o valor da variável `a` em dobro "
   ]
  },
  {
   "cell_type": "code",
   "execution_count": 10,
   "id": "7649b935-6044-4be8-8495-1700b713c010",
   "metadata": {},
   "outputs": [
    {
     "data": {
      "text/plain": [
       "4"
      ]
     },
     "execution_count": 10,
     "metadata": {},
     "output_type": "execute_result"
    }
   ],
   "source": [
    "b = a * 2\n",
    "b"
   ]
  },
  {
   "cell_type": "markdown",
   "id": "a7725c8e-91e9-460e-93e6-4fa161028f99",
   "metadata": {},
   "source": [
    "Essa linha mostra o valor de `a` + `b`"
   ]
  },
  {
   "cell_type": "code",
   "execution_count": 9,
   "id": "49a32532-d964-46a4-867b-6c098c1e1b8d",
   "metadata": {},
   "outputs": [
    {
     "data": {
      "text/plain": [
       "6"
      ]
     },
     "execution_count": 9,
     "metadata": {},
     "output_type": "execute_result"
    }
   ],
   "source": [
    "a + b"
   ]
  },
  {
   "cell_type": "code",
   "execution_count": null,
   "id": "df7bad8e-b47d-4cd1-bcf8-ae59f128ab46",
   "metadata": {},
   "outputs": [],
   "source": []
  }
 ],
 "metadata": {
  "kernelspec": {
   "display_name": "Python 3 (ipykernel)",
   "language": "python",
   "name": "python3"
  },
  "language_info": {
   "codemirror_mode": {
    "name": "ipython",
    "version": 3
   },
   "file_extension": ".py",
   "mimetype": "text/x-python",
   "name": "python",
   "nbconvert_exporter": "python",
   "pygments_lexer": "ipython3",
   "version": "3.11.4"
  }
 },
 "nbformat": 4,
 "nbformat_minor": 5
}
